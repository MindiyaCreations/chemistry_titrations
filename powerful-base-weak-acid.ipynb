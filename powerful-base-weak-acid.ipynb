{
 "cells": [
  {
   "cell_type": "code",
   "execution_count": 334,
   "metadata": {},
   "outputs": [
    {
     "name": "stdout",
     "output_type": "stream",
     "text": [
      "[0.0, 0.001, 0.002, 0.003, 0.004, 0.005, 0.006, 0.007, 0.008, 0.009, 0.01, 0.011, 0.012, 0.013, 0.014, 0.015, 0.016, 0.017, 0.018, 0.019, 0.02, 0.021, 0.022, 0.023, 0.024, 0.025, 0.026, 0.027, 0.028, 0.029, 0.03, 0.031, 0.032, 0.033, 0.034, 0.035, 0.036, 0.037, 0.038, 0.039, 0.04, 0.041, 0.042, 0.043, 0.044, 0.045, 0.046, 0.047, 0.048, 0.049, 0.05]\n"
     ]
    }
   ],
   "source": [
    "titration_volumes = []\n",
    "for i in range(0,50+1):\n",
    "    titration_volumes.append(round(i*0.001,4))\n",
    "print(titration_volumes)"
   ]
  },
  {
   "cell_type": "markdown",
   "metadata": {},
   "source": [
    "The titration values"
   ]
  },
  {
   "cell_type": "code",
   "execution_count": 335,
   "metadata": {},
   "outputs": [],
   "source": [
    "Ka = 1e-5\n",
    "Kb = 1e-14/Ka\n",
    "C1 = 1\n",
    "C2 = 1\n",
    "V = 0.025"
   ]
  },
  {
   "cell_type": "markdown",
   "metadata": {},
   "source": [
    "C1 Acid Conc in moldm-3\n",
    "C2 Base Conc in moldm-3\n",
    "V initial acid volume in dm3"
   ]
  },
  {
   "cell_type": "code",
   "execution_count": 336,
   "metadata": {},
   "outputs": [],
   "source": [
    "def get_acid_salt(v):\n",
    "    mol1 = V*C1\n",
    "    mol2 = v*C2\n",
    "    total_v = v+V\n",
    "    if mol1 > mol2:\n",
    "        return [(mol1-mol2)/total_v,mol2/total_v]\n",
    "    return [-(mol2-mol1)/total_v,mol1/total_v]"
   ]
  },
  {
   "cell_type": "markdown",
   "metadata": {},
   "source": [
    "When given base volume calculates the remaining acid and base conc"
   ]
  },
  {
   "cell_type": "code",
   "execution_count": 337,
   "metadata": {},
   "outputs": [
    {
     "name": "stdout",
     "output_type": "stream",
     "text": [
      "0.0  ->  2.0  |  0.0\n",
      "0.001  ->  1.8846  |  0.0385\n",
      "0.002  ->  1.7778  |  0.0741\n",
      "0.003  ->  1.6786  |  0.1071\n",
      "0.004  ->  1.5862  |  0.1379\n",
      "0.005  ->  1.5  |  0.1667\n",
      "0.006  ->  1.4194  |  0.1935\n",
      "0.007  ->  1.3438  |  0.2188\n",
      "0.008  ->  1.2727  |  0.2424\n",
      "0.009  ->  1.2059  |  0.2647\n",
      "0.01  ->  1.1429  |  0.2857\n",
      "0.011  ->  1.0833  |  0.3056\n",
      "0.012  ->  1.027  |  0.3243\n",
      "0.013  ->  0.9737  |  0.3421\n",
      "0.014  ->  0.9231  |  0.359\n",
      "0.015  ->  0.875  |  0.375\n",
      "0.016  ->  0.8293  |  0.3902\n",
      "0.017  ->  0.7857  |  0.4048\n",
      "0.018  ->  0.7442  |  0.4186\n",
      "0.019  ->  0.7045  |  0.4318\n",
      "0.02  ->  0.6667  |  0.4444\n",
      "0.021  ->  0.6304  |  0.4565\n",
      "0.022  ->  0.5957  |  0.4681\n",
      "0.023  ->  0.5625  |  0.4792\n",
      "0.024  ->  0.5306  |  0.4898\n",
      "0.025  ->  0.5  |  0.5\n",
      "0.026  ->  0.4706  |  0.5098\n",
      "0.027  ->  0.4423  |  0.5192\n",
      "0.028  ->  0.4151  |  0.5283\n",
      "0.029  ->  0.3889  |  0.537\n",
      "0.03  ->  0.3636  |  0.5455\n",
      "0.031  ->  0.3393  |  0.5536\n",
      "0.032  ->  0.3158  |  0.5614\n",
      "0.033  ->  0.2931  |  0.569\n",
      "0.034  ->  0.2712  |  0.5763\n",
      "0.035  ->  0.25  |  0.5833\n",
      "0.036  ->  0.2295  |  0.5902\n",
      "0.037  ->  0.2097  |  0.5968\n",
      "0.038  ->  0.1905  |  0.6032\n",
      "0.039  ->  0.1719  |  0.6094\n",
      "0.04  ->  0.1538  |  0.6154\n",
      "0.041  ->  0.1364  |  0.6212\n",
      "0.042  ->  0.1194  |  0.6269\n",
      "0.043  ->  0.1029  |  0.6324\n",
      "0.044  ->  0.087  |  0.6377\n",
      "0.045  ->  0.0714  |  0.6429\n",
      "0.046  ->  0.0563  |  0.6479\n",
      "0.047  ->  0.0417  |  0.6528\n",
      "0.048  ->  0.0274  |  0.6575\n",
      "0.049  ->  0.0135  |  0.6622\n",
      "0.05  ->  -0.0  |  0.6667\n"
     ]
    }
   ],
   "source": [
    "acid_salt_conc = []\n",
    "for i in titration_volumes:\n",
    "    acid_salt_conc.append(get_acid_salt(i))\n",
    "    print(i,\" -> \", round(get_acid_salt(i)[0],4), \" | \",round(get_acid_salt(i)[1],4))"
   ]
  },
  {
   "cell_type": "code",
   "execution_count": 338,
   "metadata": {},
   "outputs": [],
   "source": [
    "def solve_x(a,b,c):\n",
    "    return (pow((pow(b,2)-4*a*c),0.5)-b)/2*a"
   ]
  },
  {
   "cell_type": "markdown",
   "metadata": {},
   "source": [
    "Solves a polynomial equation"
   ]
  },
  {
   "cell_type": "code",
   "execution_count": 339,
   "metadata": {},
   "outputs": [],
   "source": [
    "import math\n",
    "def calc_pH(conc):\n",
    "    return -1*math.log(conc,10)\n",
    "    \n",
    "def calc_pOH(conc):\n",
    "    return -1*math.log(conc,10)"
   ]
  },
  {
   "cell_type": "markdown",
   "metadata": {},
   "source": [
    "Calculates by the concentration"
   ]
  },
  {
   "cell_type": "code",
   "execution_count": 340,
   "metadata": {},
   "outputs": [
    {
     "name": "stdout",
     "output_type": "stream",
     "text": [
      "0.004467138750083678\n",
      "0.00048378887141860977\n",
      "0.00023919531425469626\n",
      "0.0001564236956445239\n",
      "0.00011489596219731169\n",
      "8.994606147247342e-05\n",
      "7.330178479091065e-05\n",
      "6.14085252926555e-05\n",
      "5.248647126068762e-05\n",
      "4.5545998163365464e-05\n",
      "3.99930022041417e-05\n",
      "3.5449272620780015e-05\n",
      "3.166259929926474e-05\n",
      "2.8458339269399335e-05\n",
      "2.5711727842936405e-05\n",
      "2.3331259572628715e-05\n",
      "2.1248298568726787e-05\n",
      "1.9410354332560775e-05\n",
      "1.7776598207924765e-05\n",
      "1.6314795257793557e-05\n",
      "1.4999156325939955e-05\n",
      "1.3808803644266288e-05\n",
      "1.2726654817662997e-05\n",
      "1.173859788383691e-05\n",
      "1.0832872570282204e-05\n",
      "9.999600024013233e-06\n",
      "9.230421048112003e-06\n",
      "8.518214718866712e-06\n",
      "7.856877290657316e-06\n",
      "7.241146839087609e-06\n",
      "6.666462971705034e-06\n",
      "6.128853687836777e-06\n",
      "5.6248434507355505e-06\n",
      "5.151377971912563e-06\n",
      "4.705762267409597e-06\n",
      "4.285609332799201e-06\n",
      "3.888797370732444e-06\n",
      "3.513433954882572e-06\n",
      "3.157825851141105e-06\n",
      "2.8204534818776494e-06\n",
      "2.499949219969544e-06\n",
      "2.1950788594016224e-06\n",
      "1.904725732360113e-06\n",
      "1.627877042886805e-06\n",
      "1.3636120637650073e-06\n",
      "1.111091907091133e-06\n",
      "8.695506290012922e-07\n",
      "6.382874702115515e-07\n",
      "4.1666006594942573e-07\n",
      "2.040784877754831e-07\n",
      "2.581938897955734e-05\n"
     ]
    }
   ],
   "source": [
    "pH_values = []\n",
    "for concs in acid_salt_conc:\n",
    "    if(concs[0] > 0):\n",
    "        h_conc = solve_x(1,(concs[1]+Ka),-Ka*concs[0])\n",
    "        print(h_conc)\n",
    "        pH_values.append(calc_pH(h_conc))\n",
    "    else:\n",
    "        oh_conc = solve_x(1,(-1*concs[0])+Kb,-Kb*concs[1])+(-1*concs[0])\n",
    "        print(oh_conc)\n",
    "        pH_values.append(14-calc_pOH(oh_conc))\n"
   ]
  },
  {
   "cell_type": "code",
   "execution_count": 341,
   "metadata": {},
   "outputs": [
    {
     "name": "stdout",
     "output_type": "stream",
     "text": [
      "2.349970558058746\n",
      "3.315344125922622\n",
      "3.62124733226415\n",
      "3.8056974577456617\n",
      "3.9396952335070115\n",
      "4.046017848641054\n",
      "4.134885450796699\n",
      "4.211771331944525\n",
      "4.2799526244794635\n",
      "4.341549775703453\n",
      "4.398015992921928\n",
      "4.450392671624\n",
      "4.499453435178336\n",
      "4.545790447441478\n",
      "4.589868737536878\n",
      "4.632061814542039\n",
      "4.672675839815865\n",
      "4.711966536570868\n",
      "4.750151343527565\n",
      "4.7874183720120795\n",
      "4.823933168497208\n",
      "4.859843945838454\n",
      "4.8952857350066425\n",
      "4.930383774270521\n",
      "4.965256365535202\n",
      "5.000017371083797\n",
      "5.0347784880639015\n",
      "5.069651416851648\n",
      "5.104750029648355\n",
      "5.1401926456199885\n",
      "5.17610452879808\n",
      "5.212620746297356\n",
      "5.249889560225987\n",
      "5.288076583473398\n",
      "5.327370016930525\n",
      "5.3679874208682605\n",
      "5.4101846855656825\n",
      "5.454268205866521\n",
      "5.500611824287792\n",
      "5.549681058757394\n",
      "5.602068812812361\n",
      "5.658549872876177\n",
      "5.720167550958379\n",
      "5.788378401420045\n",
      "5.865309165258196\n",
      "5.954250015684108\n",
      "6.060705126420603\n",
      "6.194983680826958\n",
      "6.38021812173828\n",
      "6.690202772514673\n",
      "9.411945960395682\n"
     ]
    }
   ],
   "source": [
    "for i in pH_values:\n",
    "    print(i)"
   ]
  },
  {
   "cell_type": "code",
   "execution_count": 342,
   "metadata": {},
   "outputs": [
    {
     "data": {
      "image/png": "[encoded data removed]",
      "text/plain": [
       "<Figure size 640x480 with 1 Axes>"
      ]
     },
     "metadata": {},
     "output_type": "display_data"
    }
   ],
   "source": [
    "import matplotlib.pyplot as plt\n",
    "# plt.plot(titration_volumes, pH_values)\n",
    "plt.plot(titration_volumes, pH_values)\n",
    "plt.xlabel('Titration volumes')\n",
    "plt.ylabel('pH values')\n",
    "plt.show()"
   ]
  }
 ],
 "metadata": {
  "kernelspec": {
   "display_name": "Python 3",
   "language": "python",
   "name": "python3"
  },
  "language_info": {
   "codemirror_mode": {
    "name": "ipython",
    "version": 3
   },
   "file_extension": ".py",
   "mimetype": "text/x-python",
   "name": "python",
   "nbconvert_exporter": "python",
   "pygments_lexer": "ipython3",
   "version": "3.10.12"
  },
  "orig_nbformat": 4
 },
 "nbformat": 4,
 "nbformat_minor": 2
}
