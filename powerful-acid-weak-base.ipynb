{
 "cells": [
  {
   "cell_type": "code",
   "execution_count": 5,
   "metadata": {},
   "outputs": [
    {
     "name": "stdout",
     "output_type": "stream",
     "text": [
      "[0.0, 0.001, 0.002, 0.003, 0.004, 0.005, 0.006, 0.007, 0.008, 0.009, 0.01, 0.011, 0.012, 0.013, 0.014, 0.015, 0.016, 0.017, 0.018, 0.019, 0.02, 0.021, 0.022, 0.023, 0.024, 0.025, 0.026, 0.027, 0.028, 0.029, 0.03, 0.031, 0.032, 0.033, 0.034, 0.035, 0.036, 0.037, 0.038, 0.039, 0.04, 0.041, 0.042, 0.043, 0.044, 0.045, 0.046, 0.047, 0.048, 0.049, 0.05]\n"
     ]
    }
   ],
   "source": [
    "titration_volumes = []\n",
    "for i in range(0,50+1):\n",
    "    titration_volumes.append(round(i*0.001,4))\n",
    "print(titration_volumes)"
   ]
  },
  {
   "cell_type": "markdown",
   "metadata": {},
   "source": [
    "The titration values"
   ]
  },
  {
   "cell_type": "code",
   "execution_count": 6,
   "metadata": {},
   "outputs": [],
   "source": [
    "Kb = 1e-5\n",
    "Ka = 1e-14/Kb\n",
    "C1 = 1\n",
    "C2 = 1\n",
    "V = 0.025"
   ]
  },
  {
   "cell_type": "markdown",
   "metadata": {},
   "source": [
    "C1 Base Conc in moldm-3<br>\n",
    "C2 Acid Conc in moldm-3<br>\n",
    "V initial acid volume in dm3<br>"
   ]
  },
  {
   "cell_type": "code",
   "execution_count": 7,
   "metadata": {},
   "outputs": [],
   "source": [
    "def get_base_salt(v):\n",
    "    mol1 = V*C1\n",
    "    mol2 = v*C2\n",
    "    total_v = v+V\n",
    "    if mol1 > mol2:\n",
    "        return [(mol1-mol2)/total_v,mol2/total_v]\n",
    "    return [-(mol2-mol1)/total_v,mol1/total_v]"
   ]
  },
  {
   "cell_type": "markdown",
   "metadata": {},
   "source": [
    "When given acid volume calculates the remaining base and salt conc"
   ]
  },
  {
   "cell_type": "code",
   "execution_count": 8,
   "metadata": {},
   "outputs": [
    {
     "name": "stdout",
     "output_type": "stream",
     "text": [
      "0.0  ->  1.0  |  0.0\n",
      "0.001  ->  0.9231  |  0.0385\n",
      "0.002  ->  0.8519  |  0.0741\n",
      "0.003  ->  0.7857  |  0.1071\n",
      "0.004  ->  0.7241  |  0.1379\n",
      "0.005  ->  0.6667  |  0.1667\n",
      "0.006  ->  0.6129  |  0.1935\n",
      "0.007  ->  0.5625  |  0.2188\n",
      "0.008  ->  0.5152  |  0.2424\n",
      "0.009  ->  0.4706  |  0.2647\n",
      "0.01  ->  0.4286  |  0.2857\n",
      "0.011  ->  0.3889  |  0.3056\n",
      "0.012  ->  0.3514  |  0.3243\n",
      "0.013  ->  0.3158  |  0.3421\n",
      "0.014  ->  0.2821  |  0.359\n",
      "0.015  ->  0.25  |  0.375\n",
      "0.016  ->  0.2195  |  0.3902\n",
      "0.017  ->  0.1905  |  0.4048\n",
      "0.018  ->  0.1628  |  0.4186\n",
      "0.019  ->  0.1364  |  0.4318\n",
      "0.02  ->  0.1111  |  0.4444\n",
      "0.021  ->  0.087  |  0.4565\n",
      "0.022  ->  0.0638  |  0.4681\n",
      "0.023  ->  0.0417  |  0.4792\n",
      "0.024  ->  0.0204  |  0.4898\n",
      "0.025  ->  -0.0  |  0.5\n",
      "0.026  ->  -0.0196  |  0.4902\n",
      "0.027  ->  -0.0385  |  0.4808\n",
      "0.028  ->  -0.0566  |  0.4717\n",
      "0.029  ->  -0.0741  |  0.463\n",
      "0.03  ->  -0.0909  |  0.4545\n",
      "0.031  ->  -0.1071  |  0.4464\n",
      "0.032  ->  -0.1228  |  0.4386\n",
      "0.033  ->  -0.1379  |  0.431\n",
      "0.034  ->  -0.1525  |  0.4237\n",
      "0.035  ->  -0.1667  |  0.4167\n",
      "0.036  ->  -0.1803  |  0.4098\n",
      "0.037  ->  -0.1935  |  0.4032\n",
      "0.038  ->  -0.2063  |  0.3968\n",
      "0.039  ->  -0.2187  |  0.3906\n",
      "0.04  ->  -0.2308  |  0.3846\n",
      "0.041  ->  -0.2424  |  0.3788\n",
      "0.042  ->  -0.2537  |  0.3731\n",
      "0.043  ->  -0.2647  |  0.3676\n",
      "0.044  ->  -0.2754  |  0.3623\n",
      "0.045  ->  -0.2857  |  0.3571\n",
      "0.046  ->  -0.2958  |  0.3521\n",
      "0.047  ->  -0.3056  |  0.3472\n",
      "0.048  ->  -0.3151  |  0.3425\n",
      "0.049  ->  -0.3243  |  0.3378\n",
      "0.05  ->  -0.3333  |  0.3333\n"
     ]
    }
   ],
   "source": [
    "base_salt_conc = []\n",
    "for i in titration_volumes:\n",
    "    base_salt_conc.append(get_base_salt(i))\n",
    "    print(i,\" -> \", round(get_base_salt(i)[0],4), \" | \",round(get_base_salt(i)[1],4))"
   ]
  },
  {
   "cell_type": "code",
   "execution_count": 9,
   "metadata": {},
   "outputs": [],
   "source": [
    "def solve_x(a,b,c):\n",
    "    return (pow((pow(b,2)-4*a*c),0.5)-b)/2*a"
   ]
  },
  {
   "cell_type": "markdown",
   "metadata": {},
   "source": [
    "Solves a polynomial equation"
   ]
  },
  {
   "cell_type": "code",
   "execution_count": 10,
   "metadata": {},
   "outputs": [],
   "source": [
    "import math\n",
    "def calc_pH(conc):\n",
    "    return -1*math.log(conc,10)\n",
    "    \n",
    "def calc_pOH(conc):\n",
    "    return -1*math.log(conc,10)"
   ]
  },
  {
   "cell_type": "markdown",
   "metadata": {},
   "source": [
    "Calculates by the concentration"
   ]
  },
  {
   "cell_type": "code",
   "execution_count": 11,
   "metadata": {},
   "outputs": [],
   "source": [
    "pH_values = []\n",
    "for concs in base_salt_conc:\n",
    "    if(concs[0] > 0):\n",
    "        oh_conc = solve_x(1,(concs[1]+Kb),-Kb*concs[0])\n",
    "        pH_values.append(14-calc_pOH(oh_conc))\n",
    "    else:\n",
    "        h_conc = solve_x(1,(-1*concs[0])+Ka,-Ka*concs[1])+(-1*concs[0])\n",
    "        pH_values.append(calc_pH(h_conc))\n"
   ]
  },
  {
   "cell_type": "code",
   "execution_count": 12,
   "metadata": {},
   "outputs": [
    {
     "name": "stdout",
     "output_type": "stream",
     "text": [
      "11.499313320417087\n",
      "10.377414744579681\n",
      "10.05996671828434\n",
      "9.864964003476096\n",
      "9.71996263309731\n",
      "9.601929753765738\n",
      "9.500508881967932\n",
      "9.410103573986268\n",
      "9.327302959626817\n",
      "9.24983190455519\n",
      "9.176053261945121\n",
      "9.104703050171576\n",
      "9.034734210698023\n",
      "8.965213482082415\n",
      "8.895243046556136\n",
      "8.82388943974029\n",
      "8.750105138636751\n",
      "8.672625287217546\n",
      "8.589811125821534\n",
      "8.499384416382597\n",
      "8.397927794379651\n",
      "8.279829371649038\n",
      "8.134688030748794\n",
      "7.939292308105517\n",
      "7.619779522086347\n",
      "4.650524708951828\n",
      "1.7075696223735601\n",
      "1.4149732068251841\n",
      "1.2471545509433433\n",
      "1.1303337318514144\n",
      "1.0413926612720308\n",
      "0.9700367597333281\n",
      "0.9107768030282426\n",
      "0.8603379967315097\n",
      "0.8166094942943706\n",
      "0.7781512438692265\n",
      "0.743937144378996\n",
      "0.7132104387759317\n",
      "0.6853971930993261\n",
      "0.6600519347603881\n",
      "0.6368220944506031\n",
      "0.6154239500867802\n",
      "0.5956258788054477\n",
      "0.5772364053242248\n",
      "0.5600954877091965\n",
      "0.5440680424502374\n",
      "0.5290390522371454\n",
      "0.5149098139939176\n",
      "0.5015950226045882\n",
      "0.48902047662450066\n",
      "0.47712125341677897\n"
     ]
    }
   ],
   "source": [
    "for i in pH_values:\n",
    "    print(i)"
   ]
  },
  {
   "cell_type": "code",
   "execution_count": 13,
   "metadata": {},
   "outputs": [
    {
     "data": {
      "image/png": "[encoded data removed]",
      "text/plain": [
       "<Figure size 640x480 with 1 Axes>"
      ]
     },
     "metadata": {},
     "output_type": "display_data"
    }
   ],
   "source": [
    "import matplotlib.pyplot as plt\n",
    "# plt.plot(titration_volumes, pH_values)\n",
    "plt.plot(titration_volumes, pH_values)\n",
    "plt.xlabel('Titration volumes')\n",
    "plt.ylabel('pH values')\n",
    "plt.show()"
   ]
  }
 ],
 "metadata": {
  "kernelspec": {
   "display_name": "Python 3",
   "language": "python",
   "name": "python3"
  },
  "language_info": {
   "codemirror_mode": {
    "name": "ipython",
    "version": 3
   },
   "file_extension": ".py",
   "mimetype": "text/x-python",
   "name": "python",
   "nbconvert_exporter": "python",
   "pygments_lexer": "ipython3",
   "version": "3.10.12"
  },
  "orig_nbformat": 4
 },
 "nbformat": 4,
 "nbformat_minor": 2
}
